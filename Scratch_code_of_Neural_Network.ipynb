{
  "nbformat": 4,
  "nbformat_minor": 0,
  "metadata": {
    "colab": {
      "name": "Scratch code of Neural Network.ipynb",
      "provenance": [],
      "authorship_tag": "ABX9TyOCepUDKfaWN9ubozzUaQ2L",
      "include_colab_link": true
    },
    "kernelspec": {
      "name": "python3",
      "display_name": "Python 3"
    }
  },
  "cells": [
    {
      "cell_type": "markdown",
      "metadata": {
        "id": "view-in-github",
        "colab_type": "text"
      },
      "source": [
        "<a href=\"https://colab.research.google.com/github/Sapna714/ESC-50/blob/master/Scratch_code_of_Neural_Network.ipynb\" target=\"_parent\"><img src=\"https://colab.research.google.com/assets/colab-badge.svg\" alt=\"Open In Colab\"/></a>"
      ]
    },
    {
      "cell_type": "markdown",
      "metadata": {
        "id": "Hh9Rs9Hxw5wM"
      },
      "source": [
        "Source : https://towardsdatascience.com/how-to-build-your-own-neural-network-from-scratch-in-python-68998a08e4f6"
      ]
    },
    {
      "cell_type": "markdown",
      "metadata": {
        "id": "B3kc_4EkxEcO"
      },
      "source": [
        "Components of a Neural Network\r\n",
        "\r\n",
        "\r\n",
        "*   Input Layer : x \r\n",
        "*   Hidden Layers : (any number of layers- Number of layers = Depth of Layers)\r\n",
        "*   Output Layers : y\r\n",
        "*   A set of Biases and Weights\r\n",
        "*   Activation function - For this tutorial, Sigmoid function is used\r\n",
        "\r\n",
        "\r\n"
      ]
    },
    {
      "cell_type": "code",
      "metadata": {
        "id": "dWt0slGVwvmi"
      },
      "source": [
        "#Building neural network from scratch\r\n",
        "\r\n",
        "\r\n"
      ],
      "execution_count": null,
      "outputs": []
    }
  ]
}