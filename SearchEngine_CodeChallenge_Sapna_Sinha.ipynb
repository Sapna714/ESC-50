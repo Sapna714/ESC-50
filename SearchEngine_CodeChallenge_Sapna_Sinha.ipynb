{
  "nbformat": 4,
  "nbformat_minor": 0,
  "metadata": {
    "colab": {
      "name": "SearchEngine_CodeChallenge_Sapna Sinha.ipynb",
      "provenance": [],
      "collapsed_sections": [],
      "authorship_tag": "ABX9TyOyu0/ZPHH4LObgAqXNa0CK",
      "include_colab_link": true
    },
    "kernelspec": {
      "name": "python3",
      "display_name": "Python 3"
    }
  },
  "cells": [
    {
      "cell_type": "markdown",
      "metadata": {
        "id": "view-in-github",
        "colab_type": "text"
      },
      "source": [
        "<a href=\"https://colab.research.google.com/github/Sapna714/ESC-50/blob/master/SearchEngine_CodeChallenge_Sapna_Sinha.ipynb\" target=\"_parent\"><img src=\"https://colab.research.google.com/assets/colab-badge.svg\" alt=\"Open In Colab\"/></a>"
      ]
    },
    {
      "cell_type": "markdown",
      "metadata": {
        "id": "9Sd8z9X6s6ir"
      },
      "source": [
        "\n",
        "\n",
        "# Document Retrieval"
      ]
    },
    {
      "cell_type": "markdown",
      "metadata": {
        "id": "ai6XQ3Aawijl"
      },
      "source": [
        "* Information Retrieval using Semantic Search\n",
        "* Input Query provided by a user ---> Intelligent answer provided by the model from within documents "
      ]
    },
    {
      "cell_type": "markdown",
      "metadata": {
        "id": "D8OkTdKotCYv"
      },
      "source": [
        "Given a set of documents, Task is to review semantic search. \n",
        "Reference : [Amazon Kendra](https://aws.amazon.com/kendra/)"
      ]
    },
    {
      "cell_type": "code",
      "metadata": {
        "id": "UfimurNvwM_m"
      },
      "source": [
        "!pip install tika"
      ],
      "execution_count": null,
      "outputs": []
    },
    {
      "cell_type": "code",
      "metadata": {
        "id": "qVpewRaawLsJ"
      },
      "source": [
        "from tika import parser # pip install tika\n",
        "\n",
        "raw = parser.from_file('/content/RheovisFRCAnimalTesting.pdf')\n",
        "print(raw['content'])"
      ],
      "execution_count": null,
      "outputs": []
    },
    {
      "cell_type": "code",
      "metadata": {
        "colab": {
          "base_uri": "https://localhost:8080/"
        },
        "id": "cXUf4zyQw5FK",
        "outputId": "a1c62300-2662-4090-e464-164462d9b281"
      },
      "source": [
        "type(raw)"
      ],
      "execution_count": null,
      "outputs": [
        {
          "output_type": "execute_result",
          "data": {
            "text/plain": [
              "dict"
            ]
          },
          "metadata": {
            "tags": []
          },
          "execution_count": 4
        }
      ]
    },
    {
      "cell_type": "code",
      "metadata": {
        "id": "61Oy0qaBqNsJ"
      },
      "source": [
        "#Installing required packages\n",
        "#Ref: https://textract.readthedocs.io/en/stable/installation.html\n",
        "!apt-get install python-dev libxml2-dev libxslt1-dev antiword unrtf poppler-utils pstotext tesseract-ocr \\\n",
        "flac ffmpeg lame libmad0 libsox-fmt-mp3 sox libjpeg-dev swig\n",
        "!pip install textract\n",
        "\n",
        "#Ref: https://pypi.org/project/sentence-transformers/\n",
        "!pip install sentence-transformers"
      ],
      "execution_count": null,
      "outputs": []
    },
    {
      "cell_type": "code",
      "metadata": {
        "colab": {
          "base_uri": "https://localhost:8080/"
        },
        "id": "3m2PjfvxJeVS",
        "outputId": "3d95fe73-2441-46ef-f9ba-e059ddd27123"
      },
      "source": [
        "#Importing required libraries\n",
        "import os\n",
        "#import textract\n",
        "import nltk\n",
        "import re\n",
        "import scipy\n",
        "nltk.download('punkt')\n",
        "from nltk.tokenize import sent_tokenize\n",
        "from sentence_transformers import SentenceTransformer"
      ],
      "execution_count": null,
      "outputs": [
        {
          "output_type": "stream",
          "text": [
            "[nltk_data] Downloading package punkt to /root/nltk_data...\n",
            "[nltk_data]   Package punkt is already up-to-date!\n"
          ],
          "name": "stdout"
        }
      ]
    },
    {
      "cell_type": "code",
      "metadata": {
        "id": "ZcGrHcglFwtH"
      },
      "source": [
        "#Reading all the PDF files\n",
        "\n",
        "files_path = ['/content/RheovisFRC/RheovisFRCAnimalTesting.pdf',\n",
        "               '/content/RheovisFRC/RheovisFRCNanoStatement.pdf',\n",
        "               '/content/RheovisFRC/RheovisFRCProductSpecification.pdf',\n",
        "               '/content/RheovisFRC/RheovisFRCSVHC.pdf',\n",
        "               '/content/RheovisFRC/RheovisFRCTechnicalInformation.pdf',\n",
        "              \"/content/SokalanCP5/SokalanCP5AnimalTesting.pdf\",\"/content/SokalanCP5/SokalanCP5FoodEU.pdf\",\"/content/SokalanCP5/SokalanCP5NanoStatementFR.pdf\",\"/content/SokalanCP5/SokalanCP5ProductSpecification.pdf\",\"/content/SokalanCP5/SokalanCP5REACHpolymers.pdf\",\n",
        "              \"/content/SokalanCP5/SokalanCP5SVHC.pdf\",\"/content/SokalanCP5/SokalanCP5TechnicalInformation.pdf\",\n",
        "              \"/content/TexaponN70/TexaponN70SVHC.pdf\",\"/content/TexaponN70/TexaponN70TechnicalInformation.pdf\"\n",
        "              ]\n",
        "\n",
        "# Excluding not .pdf files\n",
        "files_path = [pdf for pdf in files_path if '.pdf' in pdf]\n",
        "\n",
        "pdfs = []\n",
        "for file in files_path:\n",
        "    text = textract.process(file,\n",
        "                            method='tesseract',\n",
        "                            language='eng')\n",
        "\n",
        "    pdfs += [text]"
      ],
      "execution_count": null,
      "outputs": []
    },
    {
      "cell_type": "code",
      "metadata": {
        "colab": {
          "base_uri": "https://localhost:8080/"
        },
        "id": "ocgfibhbHU1x",
        "outputId": "96519eb8-6946-4367-f594-1cfd4b6373b1"
      },
      "source": [
        "pdfs"
      ],
      "execution_count": null,
      "outputs": [
        {
          "output_type": "execute_result",
          "data": {
            "text/plain": [
              "[b'Ol- BASF\\n\\nWe create chemistry\\n\\nStatement\\n\\nAnimal Testing\\n\\n \\n\\ni Valid since 01/2020\\nRheovis\\xc2\\xae FRC Revision 3.0\\nPRD 30478270 WE-no.: 6808\\nPage 1 of 1\\n\\n \\n\\n@\\xc2\\xae = Registered trademark of BASF in many countries \\xe2\\x80\\x94_\\xe2\\x84\\xa2 = Trademark of BASF Care Chemicals\\n\\nDue to legal requirements and regulations of the European Union, BASF SE is obliged to perform animal\\nstudies on chemical substances. Within this document animals are regarded as vertebrates. The objective of\\nthese studies is to minimize the risk to humans, animals and the environment. Animal studies are centrally\\nmonitored by BASF SE to guarantee that the studies commissioned by BASF worldwide are carried out in\\naccordance with the same ethical aspects and animal welfare considerations as those performed within BASF.\\n\\nBASF\\xe2\\x80\\x99s company policy is to eliminate all unnecessary animal testing and to support the development of\\nalternative test methods that involve in vitro testing or that require the minimum possible number of animals.\\nHowever, alternative test methods are not available for all toxicological end points, and the validation of such\\ntest methods again requires the use of animals.\\n\\nThe product is used in chemical and technical applications\\n\\nThe product has not been tested on animals by BASF. The assessment has been derived from the components\\nor products of similar chemical composition.\\n\\nThis document and any information provided herein is for your guidance only. All information is given in good faith and is based on sources\\nbelieved to be reliable and accurate at the date of publication of this document. This document shall be valid until superseded by a later\\nversion. BASF MAKES NO WARRANTY OF ANY KIND, EITHER EXPRESS OR IMPLIED, BY FACT OR LAW, INCLUDING\\nWARRANTIES OF MERCHANTABILITY OR FITNESS FOR A PARTICULAR PURPOSE\\n\\nThis is a computer generated document. It is valid without signature\\n\\x0c',\n",
              " b'O= BASF\\n\\nWe create chemistry\\n\\nProduct specification\\n\\n \\n\\nRheovis\\xc2\\xae FRC\\n\\n= registered Trademark of BASF\\n\\nTest property\\n\\nValid since: 16.09.2015\\nRevision: 1\\nWF-No.: 7005\\nPRD 30478270 page:\\n\\xe2\\x84\\xa2 = Trademark of BASF Care Chemicals\\nin many countries\\nChemical description: catiol\\ntechr\\nPhysical form: white\\nSpecifi\\xe2\\x82\\xacasomethod\\nProduciwhiteut 6fj white visual\\nAppear@ispatsion visual\\nCharactligisiat (*) visual\\n\\nViscosity200 - 3500 mPa:s\\n\\nConcensaitbnXag @ontent)\\n\\nBrookfield RVT, 1,0%\\nwater, 25 \\xc2\\xb0C, spindle\\n(stir well for 20 min, le\\nfor additional 35 min,\\nDIN EN ISO 3251, (5\\nshare insoluble in ace\\n(*) Test verified on rar\\n\\nThe aforementioned di\\nThe data are controllec\\nWARRANTY OF ANY\\nMERCHANTABILITY\\n\\nThis is a computer gen\\n\\x0c']"
            ]
          },
          "metadata": {
            "tags": []
          },
          "execution_count": 3
        }
      ]
    },
    {
      "cell_type": "code",
      "metadata": {
        "id": "t1RRdVzlBdi6"
      },
      "source": [
        "#Text Preprocessing\n",
        "import re\n",
        "#Converting to string\n",
        "str1 = ''.join(str(e) for e in raw['content'])\n",
        "\n",
        "#Converting to lower case\n",
        "str1 = str1.lower()\n",
        "\n",
        "#Removing special characters\n",
        "final = [re.sub(r\"\\W+|_\", ' ', k) for k in str1.split(\"\\n\")]\n",
        "\n",
        "#Removing empty strings\n",
        "sentences = list(filter(None, final))"
      ],
      "execution_count": null,
      "outputs": []
    },
    {
      "cell_type": "code",
      "metadata": {
        "id": "WVs3aVrfNJNd",
        "colab": {
          "base_uri": "https://localhost:8080/"
        },
        "outputId": "b3e61f95-cb04-4146-97cb-83495134b16c"
      },
      "source": [
        "sentences"
      ],
      "execution_count": null,
      "outputs": [
        {
          "output_type": "execute_result",
          "data": {
            "text/plain": [
              "['statement',\n",
              " 'animal testing',\n",
              " 'this document and any information provided herein is for your guidance only all information is given in good faith and is based on sources ',\n",
              " 'believed to be reliable and accurate at the date of publication of this document this document shall be valid until superseded by a later ',\n",
              " 'version basf makes no warranty of any kind either express or implied by fact or law including ',\n",
              " 'warranties of merchantability or fitness for a particular purpose',\n",
              " 'this is a computer generated document it is valid without signature',\n",
              " 'due to legal requirements and regulations of the european union basf se is obliged to perform animal',\n",
              " 'studies on chemical substances within this document animals are regarded as vertebrates the objective of',\n",
              " 'these studies is to minimize the risk to humans animals and the environment animal studies are centrally',\n",
              " 'monitored by basf se to guarantee that the studies commissioned by basf worldwide are carried out in',\n",
              " 'accordance with the same ethical aspects and animal welfare considerations as those performed within basf ',\n",
              " 'basf s company policy is to eliminate all unnecessary animal testing and to support the development of',\n",
              " 'alternative test methods that involve in vitro testing or that require the minimum possible number of animals ',\n",
              " 'however alternative test methods are not available for all toxicological end points and the validation of such',\n",
              " 'test methods again requires the use of animals ',\n",
              " 'the product is used in chemical and technical applications ',\n",
              " 'the product has not been tested on animals by basf the assessment has been derived from the components',\n",
              " 'or products of similar chemical composition ',\n",
              " 'rheovis frc',\n",
              " 'prd 30478270',\n",
              " ' valid since 01 2020',\n",
              " ' revision 3 0 ',\n",
              " ' wf no 6808 ',\n",
              " ' page 1 of 1',\n",
              " ' care chemicals registered trademark of basf in many countries trademark of basf ',\n",
              " 'issued for pavan kumar ravinutala basf com on 03 08 2020']"
            ]
          },
          "metadata": {
            "tags": []
          },
          "execution_count": 15
        }
      ]
    },
    {
      "cell_type": "code",
      "metadata": {
        "colab": {
          "base_uri": "https://localhost:8080/"
        },
        "id": "JURex2p3OaWR",
        "outputId": "f6ccccd1-3606-481b-ec5a-7d406665f5f7"
      },
      "source": [
        "#Reference :https://www.sbert.net/, https://github.com/evergreenllc2020/ , https://www.aclweb.org/anthology/D19-1410.pdf\n",
        "model = SentenceTransformer('roberta-large-nli-stsb-mean-tokens')\n",
        "sentence_embeddings = model.encode(sentences)"
      ],
      "execution_count": null,
      "outputs": [
        {
          "output_type": "stream",
          "text": [
            "100%|██████████| 1.31G/1.31G [00:48<00:00, 27.1MB/s]\n"
          ],
          "name": "stderr"
        }
      ]
    },
    {
      "cell_type": "code",
      "metadata": {
        "id": "p8c6dEatIrBn"
      },
      "source": [
        "#Forming test input queries\n",
        "query = \"Did they perform animal testing? on the product?\"\n",
        "#query = \"When was latest animal test conducted for sokalan?\"\n",
        "#query = \"What does data say about animals?\"\n",
        "#query = \"What is the appearance of texapon?\"\n",
        "#query = \" what is the shelf life of sokalan?\"\n",
        "#query = \"what is the physical form of rheovis?\""
      ],
      "execution_count": null,
      "outputs": []
    },
    {
      "cell_type": "code",
      "metadata": {
        "id": "9wNV0CEDCtZX",
        "colab": {
          "base_uri": "https://localhost:8080/"
        },
        "outputId": "f598b0a2-818e-480a-e617-8cd9861deed5"
      },
      "source": [
        "queries = [query]\n",
        "query_embeddings = model.encode(queries)\n",
        "\n",
        "#5 sentences of the corpus for each query sentence based on cosine similarity\n",
        "number_top_matches = 5 \n",
        "\n",
        "print(\"Semantic Search Results\")\n",
        "\n",
        "for query, query_embedding in zip(queries, query_embeddings):\n",
        "    distances = scipy.spatial.distance.cdist([query_embedding], sentence_embeddings, \"cosine\")[0]\n",
        "\n",
        "    results = zip(range(len(distances)), distances)\n",
        "    results = sorted(results, key=lambda x: x[1])\n",
        "    \n",
        "    print(\"Query:\", query)\n",
        "    print(\"\\nTop 5 most similar sentences in corpus:\")\n",
        "    \n",
        "    values = set()\n",
        "    for idx, distance in results[0:number_top_matches]:\n",
        "      if distance not in values:\n",
        "        print(sentences[idx].strip(), \"(Cosine Score: %.4f)\" % (1-distance))\n",
        "        values.add(distance)"
      ],
      "execution_count": null,
      "outputs": [
        {
          "output_type": "stream",
          "text": [
            "Semantic Search Results\n",
            "Query: Did they perform animal testing? on the product?\n",
            "\n",
            "Top 5 most similar sentences in corpus:\n",
            "animal testing (Cosine Score: 0.7900)\n",
            "test methods again requires the use of animals (Cosine Score: 0.7413)\n",
            "alternative test methods that involve in vitro testing or that require the minimum possible number of animals (Cosine Score: 0.6750)\n",
            "the product has not been tested on animals by basf the assessment has been derived from the components (Cosine Score: 0.6233)\n",
            "these studies is to minimize the risk to humans animals and the environment animal studies are centrally (Cosine Score: 0.5693)\n"
          ],
          "name": "stdout"
        }
      ]
    },
    {
      "cell_type": "markdown",
      "metadata": {
        "id": "sVNoEHr3tql7"
      },
      "source": [
        "# Results"
      ]
    },
    {
      "cell_type": "markdown",
      "metadata": {
        "id": "tRsZv8XctBq0"
      },
      "source": [
        "Semantic Search Results\n",
        "\n",
        "======================\n",
        "\n",
        "\n",
        "Query:  what is the shelf life of sokalan?\n",
        "\n",
        "Top 5 most similar sentences in corpus:\n",
        "\n",
        "shelf life sokalan xc2 xae cp 5 has a shelf life of at least 24 months in its original packaging (Cosine Score: 0.5398)\n",
        "\n",
        "shelf life (Cosine Score: 0.4536)\n",
        "\n",
        "for sokalan xc2 xae cp 5 (Cosine Score: 0.4448)\n",
        "\n",
        "sokalan xc2 xae cp 5 (Cosine Score: 0.4334)\n",
        "\n",
        "scenario provided in the annex of the sds (Cosine Score: 0.4142)\n",
        "\n",
        "======================\n",
        "\n",
        "Query: What does data say about animals?\n",
        "\n",
        "Top 5 most similar sentences in corpus:\n",
        "\n",
        "animal testing (Cosine Score: 0.7604)\n",
        "\n",
        "test methods again requires the use of animals (Cosine Score: 0.7446)\n",
        "\n",
        "studies on chemical substances within this document animals are regarded as vertebrates the objective of (Cosine Score: 0.7113)\n",
        "\n",
        "alternative test methods that involve in vitro testing or that require the minimum possible number of animals (Cosine Score: 0.5833)\n",
        "\n",
        "due to legal requirements and regulations of the european union basf se is obliged to perform animal (Cosine Score: 0.5065)\n",
        "\n",
        "======================\n",
        "\n",
        "\n",
        "Query: what is the physical form of rheovis?\n",
        "\n",
        "Top 5 most similar sentences in corpus:\n",
        "\n",
        "physical form aque (Cosine Score: 0.5074)\n",
        "\n",
        "physical form white (Cosine Score: 0.4334)\n",
        "\n",
        "physical form dispersion (Cosine Score: 0.4303)\n",
        "\n",
        "sodium laureth sulfate 68 73 (Cosine Score: 0.4196)\n",
        "\n",
        "if samples of rheovis xc2 xae frc are required for analytical testing they must be (Cosine Score: 0.4077)\n",
        "\n",
        "\n",
        "\n",
        "======================\n",
        "\n",
        "\n",
        "Query: When was latest animal test conducted for sokalan?\n",
        "\n",
        "Top 5 most similar sentences in corpus:\n",
        "\n",
        "latest tests on animals for this product were conducted by basf in 1985 (Cosine Score: 0.6070)\n",
        "\n",
        "animal testing (Cosine Score: 0.4989)\n",
        "\n",
        "test methods again requires the use of animals (Cosine Score: 0.4711)\n"
      ]
    },
    {
      "cell_type": "markdown",
      "metadata": {
        "id": "vzZiYW22rDiz"
      },
      "source": [
        "**Scope of enhancement**\n",
        "\n",
        "*In view of usecase*\n",
        "\n",
        "\n",
        "*   Streamline Document structure and parsing\n",
        "*   Text preprocessing scalability\n",
        "\n",
        "*In view of techniques used*\n",
        "\n",
        "* Sentence Bert was used for this task (Ref: https://www.aclweb.org/anthology/D19-1410.pdf, https://www.sbert.net/docs/quickstart.html)\n",
        "\n",
        "\n",
        "\n"
      ]
    },
    {
      "cell_type": "markdown",
      "metadata": {
        "id": "1Qaf0HUVsKey"
      },
      "source": [
        "All the works referenced have been cited. The implementation on the given dataset and the conclusions drawn belong to the owner of the notebook. "
      ]
    }
  ]
}